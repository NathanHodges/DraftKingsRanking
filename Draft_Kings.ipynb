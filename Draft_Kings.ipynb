{
 "cells": [
  {
   "cell_type": "code",
   "execution_count": 14,
   "metadata": {},
   "outputs": [
    {
     "data": {
      "text/html": [
       "<div>\n",
       "<style scoped>\n",
       "    .dataframe tbody tr th:only-of-type {\n",
       "        vertical-align: middle;\n",
       "    }\n",
       "\n",
       "    .dataframe tbody tr th {\n",
       "        vertical-align: top;\n",
       "    }\n",
       "\n",
       "    .dataframe thead th {\n",
       "        text-align: right;\n",
       "    }\n",
       "</style>\n",
       "<table border=\"1\" class=\"dataframe\">\n",
       "  <thead>\n",
       "    <tr style=\"text-align: right;\">\n",
       "      <th></th>\n",
       "      <th>gp</th>\n",
       "      <th>min</th>\n",
       "      <th>pts</th>\n",
       "      <th>fgm</th>\n",
       "      <th>fga</th>\n",
       "      <th>fg%</th>\n",
       "      <th>3pm</th>\n",
       "      <th>3pa</th>\n",
       "      <th>3p%</th>\n",
       "      <th>ftm</th>\n",
       "      <th>fta</th>\n",
       "      <th>ft%</th>\n",
       "      <th>oreb</th>\n",
       "      <th>dreb</th>\n",
       "      <th>reb</th>\n",
       "      <th>ast</th>\n",
       "      <th>stl</th>\n",
       "      <th>blk</th>\n",
       "      <th>tov</th>\n",
       "      <th>eff</th>\n",
       "    </tr>\n",
       "    <tr>\n",
       "      <th>player</th>\n",
       "      <th></th>\n",
       "      <th></th>\n",
       "      <th></th>\n",
       "      <th></th>\n",
       "      <th></th>\n",
       "      <th></th>\n",
       "      <th></th>\n",
       "      <th></th>\n",
       "      <th></th>\n",
       "      <th></th>\n",
       "      <th></th>\n",
       "      <th></th>\n",
       "      <th></th>\n",
       "      <th></th>\n",
       "      <th></th>\n",
       "      <th></th>\n",
       "      <th></th>\n",
       "      <th></th>\n",
       "      <th></th>\n",
       "      <th></th>\n",
       "    </tr>\n",
       "  </thead>\n",
       "  <tbody>\n",
       "    <tr>\n",
       "      <th>James Harden</th>\n",
       "      <td>25</td>\n",
       "      <td>36.1</td>\n",
       "      <td>30.9</td>\n",
       "      <td>9.2</td>\n",
       "      <td>20.4</td>\n",
       "      <td>45.4</td>\n",
       "      <td>4.1</td>\n",
       "      <td>11.0</td>\n",
       "      <td>37.2</td>\n",
       "      <td>8.3</td>\n",
       "      <td>9.9</td>\n",
       "      <td>83.9</td>\n",
       "      <td>0.6</td>\n",
       "      <td>5.2</td>\n",
       "      <td>5.8</td>\n",
       "      <td>8.3</td>\n",
       "      <td>2.0</td>\n",
       "      <td>0.5</td>\n",
       "      <td>5.6</td>\n",
       "      <td>29.2</td>\n",
       "    </tr>\n",
       "    <tr>\n",
       "      <th>Kevin Durant</th>\n",
       "      <td>30</td>\n",
       "      <td>35.7</td>\n",
       "      <td>29.0</td>\n",
       "      <td>10.1</td>\n",
       "      <td>19.8</td>\n",
       "      <td>51.1</td>\n",
       "      <td>1.7</td>\n",
       "      <td>4.8</td>\n",
       "      <td>35.9</td>\n",
       "      <td>7.1</td>\n",
       "      <td>7.6</td>\n",
       "      <td>93.0</td>\n",
       "      <td>0.5</td>\n",
       "      <td>7.2</td>\n",
       "      <td>7.7</td>\n",
       "      <td>6.2</td>\n",
       "      <td>0.9</td>\n",
       "      <td>1.0</td>\n",
       "      <td>3.5</td>\n",
       "      <td>31.1</td>\n",
       "    </tr>\n",
       "    <tr>\n",
       "      <th>LeBron James</th>\n",
       "      <td>29</td>\n",
       "      <td>34.8</td>\n",
       "      <td>28.2</td>\n",
       "      <td>10.3</td>\n",
       "      <td>19.7</td>\n",
       "      <td>52.4</td>\n",
       "      <td>2.2</td>\n",
       "      <td>5.9</td>\n",
       "      <td>37.4</td>\n",
       "      <td>5.3</td>\n",
       "      <td>7.7</td>\n",
       "      <td>68.8</td>\n",
       "      <td>0.9</td>\n",
       "      <td>6.9</td>\n",
       "      <td>7.8</td>\n",
       "      <td>7.1</td>\n",
       "      <td>1.3</td>\n",
       "      <td>0.7</td>\n",
       "      <td>3.4</td>\n",
       "      <td>29.9</td>\n",
       "    </tr>\n",
       "    <tr>\n",
       "      <th>Anthony Davis</th>\n",
       "      <td>26</td>\n",
       "      <td>37.0</td>\n",
       "      <td>28.1</td>\n",
       "      <td>10.1</td>\n",
       "      <td>20.1</td>\n",
       "      <td>50.2</td>\n",
       "      <td>0.8</td>\n",
       "      <td>2.6</td>\n",
       "      <td>30.9</td>\n",
       "      <td>7.1</td>\n",
       "      <td>8.7</td>\n",
       "      <td>81.9</td>\n",
       "      <td>3.3</td>\n",
       "      <td>9.0</td>\n",
       "      <td>12.4</td>\n",
       "      <td>4.7</td>\n",
       "      <td>1.7</td>\n",
       "      <td>2.8</td>\n",
       "      <td>2.3</td>\n",
       "      <td>35.7</td>\n",
       "    </tr>\n",
       "    <tr>\n",
       "      <th>Joel Embiid</th>\n",
       "      <td>29</td>\n",
       "      <td>34.4</td>\n",
       "      <td>27.0</td>\n",
       "      <td>8.8</td>\n",
       "      <td>18.6</td>\n",
       "      <td>47.1</td>\n",
       "      <td>1.2</td>\n",
       "      <td>4.1</td>\n",
       "      <td>29.2</td>\n",
       "      <td>8.2</td>\n",
       "      <td>10.4</td>\n",
       "      <td>79.4</td>\n",
       "      <td>2.4</td>\n",
       "      <td>11.1</td>\n",
       "      <td>13.6</td>\n",
       "      <td>3.6</td>\n",
       "      <td>0.6</td>\n",
       "      <td>1.9</td>\n",
       "      <td>3.3</td>\n",
       "      <td>31.3</td>\n",
       "    </tr>\n",
       "  </tbody>\n",
       "</table>\n",
       "</div>"
      ],
      "text/plain": [
       "               gp   min   pts   fgm   fga   fg%  3pm   3pa   3p%  ftm   fta  \\\n",
       "player                                                                        \n",
       "James Harden   25  36.1  30.9   9.2  20.4  45.4  4.1  11.0  37.2  8.3   9.9   \n",
       "Kevin Durant   30  35.7  29.0  10.1  19.8  51.1  1.7   4.8  35.9  7.1   7.6   \n",
       "LeBron James   29  34.8  28.2  10.3  19.7  52.4  2.2   5.9  37.4  5.3   7.7   \n",
       "Anthony Davis  26  37.0  28.1  10.1  20.1  50.2  0.8   2.6  30.9  7.1   8.7   \n",
       "Joel Embiid    29  34.4  27.0   8.8  18.6  47.1  1.2   4.1  29.2  8.2  10.4   \n",
       "\n",
       "                ft%  oreb  dreb   reb  ast  stl  blk  tov   eff  \n",
       "player                                                           \n",
       "James Harden   83.9   0.6   5.2   5.8  8.3  2.0  0.5  5.6  29.2  \n",
       "Kevin Durant   93.0   0.5   7.2   7.7  6.2  0.9  1.0  3.5  31.1  \n",
       "LeBron James   68.8   0.9   6.9   7.8  7.1  1.3  0.7  3.4  29.9  \n",
       "Anthony Davis  81.9   3.3   9.0  12.4  4.7  1.7  2.8  2.3  35.7  \n",
       "Joel Embiid    79.4   2.4  11.1  13.6  3.6  0.6  1.9  3.3  31.3  "
      ]
     },
     "execution_count": 14,
     "metadata": {},
     "output_type": "execute_result"
    }
   ],
   "source": [
    "\"\"\"\n",
    "Sharpshooter    NBA Tiers: Must include players from each tier.\n",
    "Scoring Rules\n",
    "\n",
    "point = +1Pt\n",
    "3pt Shot = +0.5\n",
    "Rebound = 1.25 Pts\n",
    "Assist = +1.5 Pts\n",
    "Steal = +2 Pts\n",
    "Block = +2 Pts\n",
    "Turnover = -0.5 Pts\n",
    "\n",
    "Double-Double\n",
    "{Max 1 Per Player:\n",
    "Points, Rebounds,  = +1.5 Pts\n",
    "Assists, BLocks,\n",
    "Steals}\n",
    "\n",
    "Triple-Double\n",
    "{Max 1 Per Player:\n",
    "Points, Rebounds,  = +3 Pts\n",
    "Assists, BLocks,\n",
    "Steals}\n",
    "\n",
    "GP   Games Played \n",
    "MIN  Minutes Played \n",
    "PTS  Points ***\n",
    "FGM  Field Goals Made \n",
    "FGA  Field Goals Attempted \n",
    "FG%  Field Goal Percentage \n",
    "3PM  3 Point Field Goals Made \n",
    "3PA  3 Point Field Goals Attempted \n",
    "3P%  3 Point Field Goals Percentage \n",
    "FTM  Free Throws Made \n",
    "FTA  Free Throws Attempted \n",
    "FT%  Free Throw Percentage \n",
    "OREB Offensive Rebounds \n",
    "DREB Defensive Rebounds \n",
    "REB  Rebounds ***\n",
    "ST   Assists ***\n",
    "STL  Steals ***\n",
    "BLK  Blocks ***\n",
    "TOV  Turnovers \n",
    "EFF  Efficiency\n",
    "\"\"\"\n",
    "import numpy as np\n",
    "import pandas as pd\n",
    "import itertools\n",
    "from scipy.optimize import minimize, basinhopping, brute\n",
    "import matplotlib.pyplot as plt \n",
    "\n",
    "player_stats = pd.read_csv('player_data.csv', index_col = 'player')\n",
    "player_stats.head()"
   ]
  },
  {
   "cell_type": "code",
   "execution_count": 15,
   "metadata": {},
   "outputs": [
    {
     "data": {
      "text/html": [
       "<div>\n",
       "<style scoped>\n",
       "    .dataframe tbody tr th:only-of-type {\n",
       "        vertical-align: middle;\n",
       "    }\n",
       "\n",
       "    .dataframe tbody tr th {\n",
       "        vertical-align: top;\n",
       "    }\n",
       "\n",
       "    .dataframe thead th {\n",
       "        text-align: right;\n",
       "    }\n",
       "</style>\n",
       "<table border=\"1\" class=\"dataframe\">\n",
       "  <thead>\n",
       "    <tr style=\"text-align: right;\">\n",
       "      <th></th>\n",
       "      <th>Roster Position</th>\n",
       "      <th>Salary</th>\n",
       "    </tr>\n",
       "    <tr>\n",
       "      <th>player</th>\n",
       "      <th></th>\n",
       "      <th></th>\n",
       "    </tr>\n",
       "  </thead>\n",
       "  <tbody>\n",
       "    <tr>\n",
       "      <th>Anthony Davis</th>\n",
       "      <td>PF/C/F/UTIL</td>\n",
       "      <td>11600</td>\n",
       "    </tr>\n",
       "    <tr>\n",
       "      <th>LeBron James</th>\n",
       "      <td>SF/PF/F/UTIL</td>\n",
       "      <td>10900</td>\n",
       "    </tr>\n",
       "    <tr>\n",
       "      <th>Nikola Jokic</th>\n",
       "      <td>C/UTIL</td>\n",
       "      <td>9900</td>\n",
       "    </tr>\n",
       "    <tr>\n",
       "      <th>John Wall</th>\n",
       "      <td>PG/G/UTIL</td>\n",
       "      <td>9200</td>\n",
       "    </tr>\n",
       "    <tr>\n",
       "      <th>Kawhi Leonard</th>\n",
       "      <td>SF/PF/F/UTIL</td>\n",
       "      <td>9000</td>\n",
       "    </tr>\n",
       "  </tbody>\n",
       "</table>\n",
       "</div>"
      ],
      "text/plain": [
       "              Roster Position  Salary\n",
       "player                               \n",
       "Anthony Davis     PF/C/F/UTIL   11600\n",
       "LeBron James     SF/PF/F/UTIL   10900\n",
       "Nikola Jokic           C/UTIL    9900\n",
       "John Wall           PG/G/UTIL    9200\n",
       "Kawhi Leonard    SF/PF/F/UTIL    9000"
      ]
     },
     "execution_count": 15,
     "metadata": {},
     "output_type": "execute_result"
    }
   ],
   "source": [
    "player_salary = pd.read_csv('player_salary.csv', index_col = 'player')\n",
    "player_salary.head()"
   ]
  },
  {
   "cell_type": "code",
   "execution_count": 20,
   "metadata": {},
   "outputs": [
    {
     "data": {
      "text/plain": [
       "gp      29.0\n",
       "min     34.8\n",
       "pts     28.2\n",
       "fgm     10.3\n",
       "fga     19.7\n",
       "fg%     52.4\n",
       "3pm      2.2\n",
       "3pa      5.9\n",
       "3p%     37.4\n",
       "ftm      5.3\n",
       "fta      7.7\n",
       "ft%     68.8\n",
       "oreb     0.9\n",
       "dreb     6.9\n",
       "reb      7.8\n",
       "ast      7.1\n",
       "stl      1.3\n",
       "blk      0.7\n",
       "tov      3.4\n",
       "eff     29.9\n",
       "Name: LeBron James, dtype: float64"
      ]
     },
     "execution_count": 20,
     "metadata": {},
     "output_type": "execute_result"
    }
   ],
   "source": [
    "player_stats.loc['LeBron James']"
   ]
  },
  {
   "cell_type": "code",
   "execution_count": 9,
   "metadata": {},
   "outputs": [
    {
     "data": {
      "text/plain": [
       "gp      26.0\n",
       "min     37.0\n",
       "pts     28.1\n",
       "fgm     10.1\n",
       "fga     20.1\n",
       "fg%     50.2\n",
       "3pm      0.8\n",
       "3pa      2.6\n",
       "3p%     30.9\n",
       "ftm      7.1\n",
       "fta      8.7\n",
       "ft%     81.9\n",
       "oreb     3.3\n",
       "dreb     9.0\n",
       "reb     12.4\n",
       "ast      4.7\n",
       "stl      1.7\n",
       "blk      2.8\n",
       "tov      2.3\n",
       "eff     35.7\n",
       "Name: Anthony Davis, dtype: float64"
      ]
     },
     "execution_count": 9,
     "metadata": {},
     "output_type": "execute_result"
    }
   ],
   "source": [
    "player_stats.loc['Anthony Davis']"
   ]
  },
  {
   "cell_type": "code",
   "execution_count": null,
   "metadata": {},
   "outputs": [],
   "source": [
    "score_cols = ['pts','3pm','ast','reb','stl','blk','tov']"
   ]
  },
  {
   "cell_type": "code",
   "execution_count": 17,
   "metadata": {},
   "outputs": [],
   "source": [
    "tier_players = {'tier1' : ['Anthony Davis','LeBron James','Nikola Jokic'],\n",
    "                \n",
    "                'tier2' : ['Kawhi Leonard','Jrue Holiday','John Wall','Bradley Beal',\n",
    "                           'Julius Randle'],\n",
    "                \n",
    "                'tier3' : ['Kyle Lowry','Hassan Whiteside','DeAaron Fox', 'Luka Doncic',\n",
    "                           'DeAndre Jordan','Kyle Kuzma'],\n",
    "                \n",
    "                'tier4' : ['Josh Richardson','Jamal Murray','Cauley Stein','Serge Ibaka',\n",
    "                           'Buddy Hield','Lonzo Ball'],\n",
    "                \n",
    "                'tier5' : ['Harrison Barnes','B. Bogdanovic','Dennis Smith Jr.','Markieff Morris',\n",
    "                           'Bam Adebayo','Fred VanVleet',\n",
    "                          'J. Hernangomez','Kelly Olynyk'],\n",
    "                \n",
    "                'tier6' : ['JaVale McGee','Nemanja Bjelica','Justise Winslow','Danny Green',\n",
    "                           'Mason Plumlee','Trey Lyles',\n",
    "                          'Josh Hart','Tim Frazier']\n",
    "               }\n",
    "\n",
    "score_options = [1.0, 0.5, 1.25, 1.5, 2.0, 2.0, -0.5, 2]\n",
    "\n",
    "t1r = np.linspace(0,np.size(tier_players['tier1'])-1, np.size(tier_players['tier1']), dtype = int)\n",
    "t2r = np.linspace(0,np.size(tier_players['tier2'])-1, np.size(tier_players['tier2']), dtype = int)\n",
    "t3r = np.linspace(0,np.size(tier_players['tier3'])-1, np.size(tier_players['tier3']), dtype = int)\n",
    "t4r = np.linspace(0,np.size(tier_players['tier4'])-1, np.size(tier_players['tier4']), dtype = int)\n",
    "t5r = np.linspace(0,np.size(tier_players['tier5'])-1, np.size(tier_players['tier5']), dtype = int)\n",
    "t6r = np.linspace(0,np.size(tier_players['tier6'])-1, np.size(tier_players['tier6']), dtype = int)\n",
    "\n",
    "def scoring(t1, t2, t3, t4, t5, t6, player_stats, tier_players, score_options):\n",
    "    \n",
    "    tier_scores = [np.dot(player_stats[tier_players['tier1'][t1]] , score_options),\n",
    "                   np.dot(player_stats[tier_players['tier2'][t2]] , score_options),\n",
    "                   np.dot(player_stats[tier_players['tier3'][t3]] , score_options),\n",
    "                   np.dot(player_stats[tier_players['tier4'][t4]] , score_options),\n",
    "                   np.dot(player_stats[tier_players['tier5'][t5]] , score_options),\n",
    "                   np.dot(player_stats[tier_players['tier6'][t6]] , score_options)]\n",
    "\n",
    "    total_points = np.sum(tier_scores)\n",
    "    \n",
    "    return total_points"
   ]
  },
  {
   "cell_type": "code",
   "execution_count": 19,
   "metadata": {},
   "outputs": [
    {
     "ename": "KeyError",
     "evalue": "'Anthony Davis'",
     "output_type": "error",
     "traceback": [
      "\u001b[1;31m---------------------------------------------------------------------------\u001b[0m",
      "\u001b[1;31mKeyError\u001b[0m                                  Traceback (most recent call last)",
      "\u001b[1;32mD:\\AnacondaThings\\lib\\site-packages\\pandas\\core\\indexes\\base.py\u001b[0m in \u001b[0;36mget_loc\u001b[1;34m(self, key, method, tolerance)\u001b[0m\n\u001b[0;32m   3077\u001b[0m             \u001b[1;32mtry\u001b[0m\u001b[1;33m:\u001b[0m\u001b[1;33m\u001b[0m\u001b[0m\n\u001b[1;32m-> 3078\u001b[1;33m                 \u001b[1;32mreturn\u001b[0m \u001b[0mself\u001b[0m\u001b[1;33m.\u001b[0m\u001b[0m_engine\u001b[0m\u001b[1;33m.\u001b[0m\u001b[0mget_loc\u001b[0m\u001b[1;33m(\u001b[0m\u001b[0mkey\u001b[0m\u001b[1;33m)\u001b[0m\u001b[1;33m\u001b[0m\u001b[0m\n\u001b[0m\u001b[0;32m   3079\u001b[0m             \u001b[1;32mexcept\u001b[0m \u001b[0mKeyError\u001b[0m\u001b[1;33m:\u001b[0m\u001b[1;33m\u001b[0m\u001b[0m\n",
      "\u001b[1;32mpandas\\_libs\\index.pyx\u001b[0m in \u001b[0;36mpandas._libs.index.IndexEngine.get_loc\u001b[1;34m()\u001b[0m\n",
      "\u001b[1;32mpandas\\_libs\\index.pyx\u001b[0m in \u001b[0;36mpandas._libs.index.IndexEngine.get_loc\u001b[1;34m()\u001b[0m\n",
      "\u001b[1;32mpandas\\_libs\\hashtable_class_helper.pxi\u001b[0m in \u001b[0;36mpandas._libs.hashtable.PyObjectHashTable.get_item\u001b[1;34m()\u001b[0m\n",
      "\u001b[1;32mpandas\\_libs\\hashtable_class_helper.pxi\u001b[0m in \u001b[0;36mpandas._libs.hashtable.PyObjectHashTable.get_item\u001b[1;34m()\u001b[0m\n",
      "\u001b[1;31mKeyError\u001b[0m: 'Anthony Davis'",
      "\nDuring handling of the above exception, another exception occurred:\n",
      "\u001b[1;31mKeyError\u001b[0m                                  Traceback (most recent call last)",
      "\u001b[1;32m<ipython-input-19-fe0f1472d6f3>\u001b[0m in \u001b[0;36m<module>\u001b[1;34m()\u001b[0m\n\u001b[0;32m      1\u001b[0m \u001b[0mx0\u001b[0m \u001b[1;33m=\u001b[0m \u001b[1;33m[\u001b[0m\u001b[1;36m0\u001b[0m\u001b[1;33m,\u001b[0m\u001b[1;36m2\u001b[0m\u001b[1;33m,\u001b[0m\u001b[1;36m2\u001b[0m\u001b[1;33m,\u001b[0m\u001b[1;36m0\u001b[0m\u001b[1;33m,\u001b[0m\u001b[1;36m0\u001b[0m\u001b[1;33m,\u001b[0m\u001b[1;36m2\u001b[0m\u001b[1;33m]\u001b[0m\u001b[1;33m\u001b[0m\u001b[0m\n\u001b[1;32m----> 2\u001b[1;33m \u001b[0mscoring\u001b[0m\u001b[1;33m(\u001b[0m\u001b[1;36m0\u001b[0m\u001b[1;33m,\u001b[0m\u001b[1;36m2\u001b[0m\u001b[1;33m,\u001b[0m\u001b[1;36m2\u001b[0m\u001b[1;33m,\u001b[0m\u001b[1;36m0\u001b[0m\u001b[1;33m,\u001b[0m\u001b[1;36m0\u001b[0m\u001b[1;33m,\u001b[0m\u001b[1;36m2\u001b[0m\u001b[1;33m,\u001b[0m \u001b[0mplayer_stats\u001b[0m\u001b[1;33m,\u001b[0m \u001b[0mtier_players\u001b[0m\u001b[1;33m,\u001b[0m \u001b[0mscore_options\u001b[0m\u001b[1;33m)\u001b[0m\u001b[1;33m\u001b[0m\u001b[0m\n\u001b[0m",
      "\u001b[1;32m<ipython-input-17-c8ba095f9a86>\u001b[0m in \u001b[0;36mscoring\u001b[1;34m(t1, t2, t3, t4, t5, t6, player_stats, tier_players, score_options)\u001b[0m\n\u001b[0;32m     30\u001b[0m \u001b[1;32mdef\u001b[0m \u001b[0mscoring\u001b[0m\u001b[1;33m(\u001b[0m\u001b[0mt1\u001b[0m\u001b[1;33m,\u001b[0m \u001b[0mt2\u001b[0m\u001b[1;33m,\u001b[0m \u001b[0mt3\u001b[0m\u001b[1;33m,\u001b[0m \u001b[0mt4\u001b[0m\u001b[1;33m,\u001b[0m \u001b[0mt5\u001b[0m\u001b[1;33m,\u001b[0m \u001b[0mt6\u001b[0m\u001b[1;33m,\u001b[0m \u001b[0mplayer_stats\u001b[0m\u001b[1;33m,\u001b[0m \u001b[0mtier_players\u001b[0m\u001b[1;33m,\u001b[0m \u001b[0mscore_options\u001b[0m\u001b[1;33m)\u001b[0m\u001b[1;33m:\u001b[0m\u001b[1;33m\u001b[0m\u001b[0m\n\u001b[0;32m     31\u001b[0m \u001b[1;33m\u001b[0m\u001b[0m\n\u001b[1;32m---> 32\u001b[1;33m     tier_scores = [np.dot(player_stats[tier_players['tier1'][t1]] , score_options),\n\u001b[0m\u001b[0;32m     33\u001b[0m                    \u001b[0mnp\u001b[0m\u001b[1;33m.\u001b[0m\u001b[0mdot\u001b[0m\u001b[1;33m(\u001b[0m\u001b[0mplayer_stats\u001b[0m\u001b[1;33m[\u001b[0m\u001b[0mtier_players\u001b[0m\u001b[1;33m[\u001b[0m\u001b[1;34m'tier2'\u001b[0m\u001b[1;33m]\u001b[0m\u001b[1;33m[\u001b[0m\u001b[0mt2\u001b[0m\u001b[1;33m]\u001b[0m\u001b[1;33m]\u001b[0m \u001b[1;33m,\u001b[0m \u001b[0mscore_options\u001b[0m\u001b[1;33m)\u001b[0m\u001b[1;33m,\u001b[0m\u001b[1;33m\u001b[0m\u001b[0m\n\u001b[0;32m     34\u001b[0m                    \u001b[0mnp\u001b[0m\u001b[1;33m.\u001b[0m\u001b[0mdot\u001b[0m\u001b[1;33m(\u001b[0m\u001b[0mplayer_stats\u001b[0m\u001b[1;33m[\u001b[0m\u001b[0mtier_players\u001b[0m\u001b[1;33m[\u001b[0m\u001b[1;34m'tier3'\u001b[0m\u001b[1;33m]\u001b[0m\u001b[1;33m[\u001b[0m\u001b[0mt3\u001b[0m\u001b[1;33m]\u001b[0m\u001b[1;33m]\u001b[0m \u001b[1;33m,\u001b[0m \u001b[0mscore_options\u001b[0m\u001b[1;33m)\u001b[0m\u001b[1;33m,\u001b[0m\u001b[1;33m\u001b[0m\u001b[0m\n",
      "\u001b[1;32mD:\\AnacondaThings\\lib\\site-packages\\pandas\\core\\frame.py\u001b[0m in \u001b[0;36m__getitem__\u001b[1;34m(self, key)\u001b[0m\n\u001b[0;32m   2686\u001b[0m             \u001b[1;32mreturn\u001b[0m \u001b[0mself\u001b[0m\u001b[1;33m.\u001b[0m\u001b[0m_getitem_multilevel\u001b[0m\u001b[1;33m(\u001b[0m\u001b[0mkey\u001b[0m\u001b[1;33m)\u001b[0m\u001b[1;33m\u001b[0m\u001b[0m\n\u001b[0;32m   2687\u001b[0m         \u001b[1;32melse\u001b[0m\u001b[1;33m:\u001b[0m\u001b[1;33m\u001b[0m\u001b[0m\n\u001b[1;32m-> 2688\u001b[1;33m             \u001b[1;32mreturn\u001b[0m \u001b[0mself\u001b[0m\u001b[1;33m.\u001b[0m\u001b[0m_getitem_column\u001b[0m\u001b[1;33m(\u001b[0m\u001b[0mkey\u001b[0m\u001b[1;33m)\u001b[0m\u001b[1;33m\u001b[0m\u001b[0m\n\u001b[0m\u001b[0;32m   2689\u001b[0m \u001b[1;33m\u001b[0m\u001b[0m\n\u001b[0;32m   2690\u001b[0m     \u001b[1;32mdef\u001b[0m \u001b[0m_getitem_column\u001b[0m\u001b[1;33m(\u001b[0m\u001b[0mself\u001b[0m\u001b[1;33m,\u001b[0m \u001b[0mkey\u001b[0m\u001b[1;33m)\u001b[0m\u001b[1;33m:\u001b[0m\u001b[1;33m\u001b[0m\u001b[0m\n",
      "\u001b[1;32mD:\\AnacondaThings\\lib\\site-packages\\pandas\\core\\frame.py\u001b[0m in \u001b[0;36m_getitem_column\u001b[1;34m(self, key)\u001b[0m\n\u001b[0;32m   2693\u001b[0m         \u001b[1;31m# get column\u001b[0m\u001b[1;33m\u001b[0m\u001b[1;33m\u001b[0m\u001b[0m\n\u001b[0;32m   2694\u001b[0m         \u001b[1;32mif\u001b[0m \u001b[0mself\u001b[0m\u001b[1;33m.\u001b[0m\u001b[0mcolumns\u001b[0m\u001b[1;33m.\u001b[0m\u001b[0mis_unique\u001b[0m\u001b[1;33m:\u001b[0m\u001b[1;33m\u001b[0m\u001b[0m\n\u001b[1;32m-> 2695\u001b[1;33m             \u001b[1;32mreturn\u001b[0m \u001b[0mself\u001b[0m\u001b[1;33m.\u001b[0m\u001b[0m_get_item_cache\u001b[0m\u001b[1;33m(\u001b[0m\u001b[0mkey\u001b[0m\u001b[1;33m)\u001b[0m\u001b[1;33m\u001b[0m\u001b[0m\n\u001b[0m\u001b[0;32m   2696\u001b[0m \u001b[1;33m\u001b[0m\u001b[0m\n\u001b[0;32m   2697\u001b[0m         \u001b[1;31m# duplicate columns & possible reduce dimensionality\u001b[0m\u001b[1;33m\u001b[0m\u001b[1;33m\u001b[0m\u001b[0m\n",
      "\u001b[1;32mD:\\AnacondaThings\\lib\\site-packages\\pandas\\core\\generic.py\u001b[0m in \u001b[0;36m_get_item_cache\u001b[1;34m(self, item)\u001b[0m\n\u001b[0;32m   2487\u001b[0m         \u001b[0mres\u001b[0m \u001b[1;33m=\u001b[0m \u001b[0mcache\u001b[0m\u001b[1;33m.\u001b[0m\u001b[0mget\u001b[0m\u001b[1;33m(\u001b[0m\u001b[0mitem\u001b[0m\u001b[1;33m)\u001b[0m\u001b[1;33m\u001b[0m\u001b[0m\n\u001b[0;32m   2488\u001b[0m         \u001b[1;32mif\u001b[0m \u001b[0mres\u001b[0m \u001b[1;32mis\u001b[0m \u001b[1;32mNone\u001b[0m\u001b[1;33m:\u001b[0m\u001b[1;33m\u001b[0m\u001b[0m\n\u001b[1;32m-> 2489\u001b[1;33m             \u001b[0mvalues\u001b[0m \u001b[1;33m=\u001b[0m \u001b[0mself\u001b[0m\u001b[1;33m.\u001b[0m\u001b[0m_data\u001b[0m\u001b[1;33m.\u001b[0m\u001b[0mget\u001b[0m\u001b[1;33m(\u001b[0m\u001b[0mitem\u001b[0m\u001b[1;33m)\u001b[0m\u001b[1;33m\u001b[0m\u001b[0m\n\u001b[0m\u001b[0;32m   2490\u001b[0m             \u001b[0mres\u001b[0m \u001b[1;33m=\u001b[0m \u001b[0mself\u001b[0m\u001b[1;33m.\u001b[0m\u001b[0m_box_item_values\u001b[0m\u001b[1;33m(\u001b[0m\u001b[0mitem\u001b[0m\u001b[1;33m,\u001b[0m \u001b[0mvalues\u001b[0m\u001b[1;33m)\u001b[0m\u001b[1;33m\u001b[0m\u001b[0m\n\u001b[0;32m   2491\u001b[0m             \u001b[0mcache\u001b[0m\u001b[1;33m[\u001b[0m\u001b[0mitem\u001b[0m\u001b[1;33m]\u001b[0m \u001b[1;33m=\u001b[0m \u001b[0mres\u001b[0m\u001b[1;33m\u001b[0m\u001b[0m\n",
      "\u001b[1;32mD:\\AnacondaThings\\lib\\site-packages\\pandas\\core\\internals.py\u001b[0m in \u001b[0;36mget\u001b[1;34m(self, item, fastpath)\u001b[0m\n\u001b[0;32m   4113\u001b[0m \u001b[1;33m\u001b[0m\u001b[0m\n\u001b[0;32m   4114\u001b[0m             \u001b[1;32mif\u001b[0m \u001b[1;32mnot\u001b[0m \u001b[0misna\u001b[0m\u001b[1;33m(\u001b[0m\u001b[0mitem\u001b[0m\u001b[1;33m)\u001b[0m\u001b[1;33m:\u001b[0m\u001b[1;33m\u001b[0m\u001b[0m\n\u001b[1;32m-> 4115\u001b[1;33m                 \u001b[0mloc\u001b[0m \u001b[1;33m=\u001b[0m \u001b[0mself\u001b[0m\u001b[1;33m.\u001b[0m\u001b[0mitems\u001b[0m\u001b[1;33m.\u001b[0m\u001b[0mget_loc\u001b[0m\u001b[1;33m(\u001b[0m\u001b[0mitem\u001b[0m\u001b[1;33m)\u001b[0m\u001b[1;33m\u001b[0m\u001b[0m\n\u001b[0m\u001b[0;32m   4116\u001b[0m             \u001b[1;32melse\u001b[0m\u001b[1;33m:\u001b[0m\u001b[1;33m\u001b[0m\u001b[0m\n\u001b[0;32m   4117\u001b[0m                 \u001b[0mindexer\u001b[0m \u001b[1;33m=\u001b[0m \u001b[0mnp\u001b[0m\u001b[1;33m.\u001b[0m\u001b[0marange\u001b[0m\u001b[1;33m(\u001b[0m\u001b[0mlen\u001b[0m\u001b[1;33m(\u001b[0m\u001b[0mself\u001b[0m\u001b[1;33m.\u001b[0m\u001b[0mitems\u001b[0m\u001b[1;33m)\u001b[0m\u001b[1;33m)\u001b[0m\u001b[1;33m[\u001b[0m\u001b[0misna\u001b[0m\u001b[1;33m(\u001b[0m\u001b[0mself\u001b[0m\u001b[1;33m.\u001b[0m\u001b[0mitems\u001b[0m\u001b[1;33m)\u001b[0m\u001b[1;33m]\u001b[0m\u001b[1;33m\u001b[0m\u001b[0m\n",
      "\u001b[1;32mD:\\AnacondaThings\\lib\\site-packages\\pandas\\core\\indexes\\base.py\u001b[0m in \u001b[0;36mget_loc\u001b[1;34m(self, key, method, tolerance)\u001b[0m\n\u001b[0;32m   3078\u001b[0m                 \u001b[1;32mreturn\u001b[0m \u001b[0mself\u001b[0m\u001b[1;33m.\u001b[0m\u001b[0m_engine\u001b[0m\u001b[1;33m.\u001b[0m\u001b[0mget_loc\u001b[0m\u001b[1;33m(\u001b[0m\u001b[0mkey\u001b[0m\u001b[1;33m)\u001b[0m\u001b[1;33m\u001b[0m\u001b[0m\n\u001b[0;32m   3079\u001b[0m             \u001b[1;32mexcept\u001b[0m \u001b[0mKeyError\u001b[0m\u001b[1;33m:\u001b[0m\u001b[1;33m\u001b[0m\u001b[0m\n\u001b[1;32m-> 3080\u001b[1;33m                 \u001b[1;32mreturn\u001b[0m \u001b[0mself\u001b[0m\u001b[1;33m.\u001b[0m\u001b[0m_engine\u001b[0m\u001b[1;33m.\u001b[0m\u001b[0mget_loc\u001b[0m\u001b[1;33m(\u001b[0m\u001b[0mself\u001b[0m\u001b[1;33m.\u001b[0m\u001b[0m_maybe_cast_indexer\u001b[0m\u001b[1;33m(\u001b[0m\u001b[0mkey\u001b[0m\u001b[1;33m)\u001b[0m\u001b[1;33m)\u001b[0m\u001b[1;33m\u001b[0m\u001b[0m\n\u001b[0m\u001b[0;32m   3081\u001b[0m \u001b[1;33m\u001b[0m\u001b[0m\n\u001b[0;32m   3082\u001b[0m         \u001b[0mindexer\u001b[0m \u001b[1;33m=\u001b[0m \u001b[0mself\u001b[0m\u001b[1;33m.\u001b[0m\u001b[0mget_indexer\u001b[0m\u001b[1;33m(\u001b[0m\u001b[1;33m[\u001b[0m\u001b[0mkey\u001b[0m\u001b[1;33m]\u001b[0m\u001b[1;33m,\u001b[0m \u001b[0mmethod\u001b[0m\u001b[1;33m=\u001b[0m\u001b[0mmethod\u001b[0m\u001b[1;33m,\u001b[0m \u001b[0mtolerance\u001b[0m\u001b[1;33m=\u001b[0m\u001b[0mtolerance\u001b[0m\u001b[1;33m)\u001b[0m\u001b[1;33m\u001b[0m\u001b[0m\n",
      "\u001b[1;32mpandas\\_libs\\index.pyx\u001b[0m in \u001b[0;36mpandas._libs.index.IndexEngine.get_loc\u001b[1;34m()\u001b[0m\n",
      "\u001b[1;32mpandas\\_libs\\index.pyx\u001b[0m in \u001b[0;36mpandas._libs.index.IndexEngine.get_loc\u001b[1;34m()\u001b[0m\n",
      "\u001b[1;32mpandas\\_libs\\hashtable_class_helper.pxi\u001b[0m in \u001b[0;36mpandas._libs.hashtable.PyObjectHashTable.get_item\u001b[1;34m()\u001b[0m\n",
      "\u001b[1;32mpandas\\_libs\\hashtable_class_helper.pxi\u001b[0m in \u001b[0;36mpandas._libs.hashtable.PyObjectHashTable.get_item\u001b[1;34m()\u001b[0m\n",
      "\u001b[1;31mKeyError\u001b[0m: 'Anthony Davis'"
     ]
    }
   ],
   "source": [
    "x0 = [0,2,2,0,0,2]\n",
    "scoring(0,2,2,0,0,2, player_stats, tier_players, score_options)"
   ]
  },
  {
   "cell_type": "code",
   "execution_count": 509,
   "metadata": {},
   "outputs": [
    {
     "data": {
      "text/plain": [
       "599.2499999999999"
      ]
     },
     "execution_count": 509,
     "metadata": {},
     "output_type": "execute_result"
    }
   ],
   "source": [
    "#fun random search\n",
    "rdm_t1 = np.random.choice(t1r)\n",
    "rdm_t2 = np.random.choice(t2r)\n",
    "rdm_t3 = np.random.choice(t3r)\n",
    "rdm_t4 = np.random.choice(t4r)\n",
    "rdm_t5 = np.random.choice(t5r)\n",
    "rdm_t6 = np.random.choice(t6r)\n",
    "\n",
    "x0 = [rdm_t1,rdm_t2,rdm_t3,rdm_t4,rdm_t5,rdm_t6]\n",
    "scoring(x0, player_stats, tier_players, score_options)"
   ]
  },
  {
   "cell_type": "code",
   "execution_count": 461,
   "metadata": {},
   "outputs": [],
   "source": [
    "#Let's vectorize the function\n",
    "scoring_vect = np.vectorize(dev_scoring , excluded = [6,7,8])\n",
    "\n",
    "#create a meshgrid\n",
    "Tr1, Tr2, Tr3, Tr4, Tr5, Tr6 = np.meshgrid(t1r, t2r, t3r, t4r, t5r, t6r)\n",
    "\n",
    "results = scoring_vect(Tr1, Tr2, Tr3, Tr4, Tr5, Tr6, player_stats, tier_players, score_options)"
   ]
  },
  {
   "cell_type": "code",
   "execution_count": 517,
   "metadata": {},
   "outputs": [
    {
     "data": {
      "text/plain": [
       "array([625.8  , 625.075, 624.675, ..., 491.725, 489.7  , 489.625])"
      ]
     },
     "execution_count": 517,
     "metadata": {},
     "output_type": "execute_result"
    }
   ],
   "source": [
    "-np.sort(-results, axis = None)"
   ]
  },
  {
   "cell_type": "code",
   "execution_count": 462,
   "metadata": {},
   "outputs": [
    {
     "data": {
      "image/png": "[encoded data removed]",
      "text/plain": [
       "<Figure size 1080x504 with 1 Axes>"
      ]
     },
     "metadata": {
      "needs_background": "light"
     },
     "output_type": "display_data"
    }
   ],
   "source": [
    "fig, ax = plt.subplots(figsize = (15,7,))\n",
    "plt.plot(-np.sort(-results, axis = None),  '*r', markersize = 0.1)\n",
    "plt.show()"
   ]
  },
  {
   "cell_type": "code",
   "execution_count": 463,
   "metadata": {},
   "outputs": [
    {
     "data": {
      "text/plain": [
       "625.8"
      ]
     },
     "execution_count": 463,
     "metadata": {},
     "output_type": "execute_result"
    }
   ],
   "source": [
    "np.max(results)"
   ]
  },
  {
   "cell_type": "code",
   "execution_count": 464,
   "metadata": {},
   "outputs": [
    {
     "data": {
      "text/plain": [
       "489.62499999999994"
      ]
     },
     "execution_count": 464,
     "metadata": {},
     "output_type": "execute_result"
    }
   ],
   "source": [
    "np.min(results)"
   ]
  },
  {
   "cell_type": "code",
   "execution_count": null,
   "metadata": {},
   "outputs": [],
   "source": []
  }
 ],
 "metadata": {
  "kernelspec": {
   "display_name": "Python 3",
   "language": "python",
   "name": "python3"
  },
  "language_info": {
   "codemirror_mode": {
    "name": "ipython",
    "version": 3
   },
   "file_extension": ".py",
   "mimetype": "text/x-python",
   "name": "python",
   "nbconvert_exporter": "python",
   "pygments_lexer": "ipython3",
   "version": "3.7.0"
  }
 },
 "nbformat": 4,
 "nbformat_minor": 2
}
