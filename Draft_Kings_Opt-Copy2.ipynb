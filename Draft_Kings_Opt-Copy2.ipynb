{
 "cells": [
  {
   "cell_type": "code",
   "execution_count": 3,
   "metadata": {},
   "outputs": [],
   "source": [
    "\"\"\"\n",
    "Sharpshooter    NBA Tiers: Must include players from each tier.\n",
    "Scoring Rules\n",
    "\n",
    "point = +1Pt\n",
    "3pt Shot = +0.5\n",
    "Rebound = 1.25 Pts\n",
    "Assist = +1.5 Pts\n",
    "Steal = +2 Pts\n",
    "Block = +2 Pts\n",
    "Turnover = -0.5 Pts\n",
    "\n",
    "Double-Double\n",
    "{Max 1 Per Player:\n",
    "Points, Rebounds,  = +1.5 Pts\n",
    "Assists, BLocks,\n",
    "Steals}\n",
    "\n",
    "Triple-Double\n",
    "{Max 1 Per Player:\n",
    "Points, Rebounds,  = +3 Pts\n",
    "Assists, BLocks,\n",
    "Steals}\n",
    "\n",
    "\n",
    "\n",
    "\"\"\"\n",
    "import numpy as np\n",
    "import pandas as pd\n",
    "import itertools\n",
    "from scipy.optimize import minimize, basinhopping, brute\n",
    "import matplotlib.pyplot as plt \n",
    "\n",
    "'''\n",
    "player_stats = ['Curry': [avg_points, avg_3Pt, avg_rebound, avg_assist, avg_steal, avg_block, avg_turnover],\\\n",
    "                'Lowry': [avg_points, avg_3Pt, avg_rebound, avg_assist, avg_steal, avg_block, avg_turnover]]\n",
    "             \n",
    "             \n",
    "normal_score = [1.0, 0.5, 1.25, 1.5, 2.0, 2.0, -0.5]\n",
    "\n",
    "my_score = [avg_points, avg_3Pt, avg_rebound, avg_assist, avg_steal, avg_block, avg_turnover, avg_minutes]\n",
    "'''\n",
    "\n",
    "player_stats = {'Anthony Davis':    [28.1, 0.8, 12.4, 4.70, 1.7, 2.8, 2.3],\n",
    "                'LeBron James':     [28.2, 2.2, 7.80, 7.10, 1.3, 0.7, 3.4],\n",
    "                'Nikola Jokic':     [17.4, 1.0, 10.0, 7.60, 1.4, 0.7, 2.9],\n",
    "                'Kawhi Leonard':    [26.2, 1.9, 8.20, 3.00, 1.8, 0.7, 2.0],\n",
    "                'Jrue Holiday':     [20.5, 1.4, 4.30, 8.90, 1.8, 0.7, 3.8],\n",
    "                'John Wall':        [20.8, 1.5, 3.50, 8.70, 1.6, 1.6, 3.4],\n",
    "                'Bradley Beal':     [23.1, 2.3, 4.30, 4.50, 1.0, 1.0, 2.4],\n",
    "                'Julius Randle':    [19.3, 0.6, 9.50, 2.80, 0.6, 0.6, 2.5],\n",
    "                'Kyle Lowry':       [14.2, 2.1, 4.40, 10.0, 1.4, 0.4, 2.8],\n",
    "                'Hassan Whiteside': [13.2, 0.1, 13.4, 0.90, 0.6, 2.9, 1.7],\n",
    "                'DeAaron Fox':      [18.1, 1.3, 3.60, 7.60, 1.5, 0.5, 3.3],\n",
    "                'Luka Doncic':      [17.8, 2.2, 6.80, 4.50, 1.1, 0.3, 3.5],\n",
    "                'DeAndre Jordan':   [11.1, 0.0, 13.6, 2.10, 0.7, 1.0, 2.5],\n",
    "                'Kyle Kuzma':       [18.1, 1.8, 5.70, 2.20, 0.6, 0.6, 1.6],\n",
    "                'Josh Richardson':  [18.5, 2.6, 3.90, 3.50, 1.2, 0.6, 2.0],\n",
    "                'Jamal Murray':     [17.4, 1.4, 4.40, 4.80, 0.9, 0.4, 2.4],\n",
    "                'Cauley Stein':     [14.3, 0.0, 8.50, 2.40, 1.2, 0.5, 1.4],\n",
    "                'Serge Ibaka':      [16.8, 0.7, 7.50, 1.40, 0.5, 1.4, 1.7],\n",
    "                'Buddy Hield':      [18.9, 2.8, 5.20, 2.50, 0.5, 0.4, 2.1],\n",
    "                'Lonzo Ball':       [8.30, 1.3, 5.10, 5.00, 1.5, 0.3, 2.0],\n",
    "                'Harrison Barnes':  [17.9, 2.5, 4.40, 1.20, 0.7, 0.3, 1.6],\n",
    "                'B. Bogdanovic':    [15.2, 2.1, 3.30, 3.80, 0.8, 0.1, 1.2],\n",
    "                'Dennis Smith Jr.': [13.0, 1.3, 3.00, 4.00, 1.3, 0.5, 3.3],\n",
    "                'Markieff Morris':  [11.7, 1.5, 5.30, 1.80, 0.8, 0.6, 1.4],\n",
    "                'Bam Adebayo':      [8.10, 0.0, 7.10, 1.70, 0.7, 1.0, 1.3],\n",
    "                'Fred VanVleet':    [9.70, 1.5, 2.40, 4.50, 0.9, 0.1, 1.4],\n",
    "                'J. Hernangomez':   [10.1, 1.7, 5.60, 1.00, 0.6, 0.5, 0.9],\n",
    "                'Kelly Olynyk':     [10.0, 1.6, 4.30, 2.20, 0.7, 0.4, 1.4],\n",
    "                'JaVale McGee':     [11.8, 0.0, 6.70, 0.80, 0.8, 2.6, 1.6],\n",
    "                'Nemanja Bjelica':  [11.4, 1.6, 5.70, 2.00, 0.9, 0.6, 1.5],\n",
    "                'Justise Winslow':  [10.8, 1.3, 5.20, 3.50, 0.9, 0.4, 2.2],\n",
    "                'Danny Green':      [9.90, 2.4, 4.20, 1.40, 0.9, 0.8, 1.0],\n",
    "                'Mason Plumlee':    [7.00, 0.0, 5.40, 2.10, 1.1, 1.0, 1.5],\n",
    "                'Trey Lyles':       [10.0, 0.8, 4.80, 1.50, 0.6, 0.5, 1.6],\n",
    "                'Josh Hart':        [9.20, 1.8, 3.30, 1.20, 1.1, 0.7, 0.9],\n",
    "                'Tim Frazier':      [4.80, 0.7, 2.70, 4.80, 0.6, 0.0, 1.4]\n",
    "               }\n",
    "\n",
    "tier_players = {'tier1' : ['Anthony Davis','LeBron James','Nikola Jokic'],\n",
    "                \n",
    "                'tier2' : ['Kawhi Leonard','Jrue Holiday','John Wall','Bradley Beal',\n",
    "                           'Julius Randle'],\n",
    "                \n",
    "                'tier3' : ['Kyle Lowry','Hassan Whiteside','DeAaron Fox', 'Luka Doncic',\n",
    "                           'DeAndre Jordan','Kyle Kuzma'],\n",
    "                \n",
    "                'tier4' : ['Josh Richardson','Jamal Murray','Cauley Stein','Serge Ibaka',\n",
    "                           'Buddy Hield','Lonzo Ball'],\n",
    "                \n",
    "                'tier5' : ['Harrison Barnes','B. Bogdanovic','Dennis Smith Jr.','Markieff Morris',\n",
    "                           'Bam Adebayo','Fred VanVleet',\n",
    "                          'J. Hernangomez','Kelly Olynyk'],\n",
    "                \n",
    "                'tier6' : ['JaVale McGee','Nemanja Bjelica','Justise Winslow','Danny Green',\n",
    "                           'Mason Plumlee','Trey Lyles',\n",
    "                          'Josh Hart','Tim Frazier']\n",
    "               }\n",
    "\n",
    "score_options = [1.0, 0.5, 1.25, 1.5, 2.0, 2.0, -0.5]\n",
    "\n",
    "t1r = np.linspace(0,np.size(tier_players['tier1'])-1, np.size(tier_players['tier1']), dtype = int)\n",
    "t2r = np.linspace(0,np.size(tier_players['tier2'])-1, np.size(tier_players['tier2']), dtype = int)\n",
    "t3r = np.linspace(0,np.size(tier_players['tier3'])-1, np.size(tier_players['tier3']), dtype = int)\n",
    "t4r = np.linspace(0,np.size(tier_players['tier4'])-1, np.size(tier_players['tier4']), dtype = int)\n",
    "t5r = np.linspace(0,np.size(tier_players['tier5'])-1, np.size(tier_players['tier5']), dtype = int)\n",
    "t6r = np.linspace(0,np.size(tier_players['tier6'])-1, np.size(tier_players['tier6']), dtype = int)\n",
    "\n",
    "def scoring(x0, player_stats, tier_players, score_options):\n",
    "    \n",
    "    t1, t2, t3, t4, t5, t6 = x0\n",
    "    \n",
    "    tier_scores = [np.dot(player_stats[tier_players['tier1'][t1]] , score_options),\n",
    "                   np.dot(player_stats[tier_players['tier2'][t2]] , score_options),\n",
    "                   np.dot(player_stats[tier_players['tier3'][t3]] , score_options),\n",
    "                   np.dot(player_stats[tier_players['tier4'][t4]] , score_options),\n",
    "                   np.dot(player_stats[tier_players['tier5'][t5]] , score_options),\n",
    "                   np.dot(player_stats[tier_players['tier6'][t6]] , score_options)]\n",
    "\n",
    "    total_points = np.sum(tier_scores)\n",
    "    \n",
    "    return total_points"
   ]
  },
  {
   "cell_type": "code",
   "execution_count": 4,
   "metadata": {},
   "outputs": [
    {
     "data": {
      "text/plain": [
       "223.8"
      ]
     },
     "execution_count": 4,
     "metadata": {},
     "output_type": "execute_result"
    }
   ],
   "source": [
    "x0 = [0,1,2,0,0,2]\n",
    "scoring(x0, player_stats, tier_players, score_options)"
   ]
  },
  {
   "cell_type": "code",
   "execution_count": 5,
   "metadata": {},
   "outputs": [],
   "source": [
    "x0 = [0,0,2,0,0,2]"
   ]
  },
  {
   "cell_type": "code",
   "execution_count": 6,
   "metadata": {},
   "outputs": [
    {
     "data": {
      "text/plain": [
       "199.6"
      ]
     },
     "execution_count": 6,
     "metadata": {},
     "output_type": "execute_result"
    }
   ],
   "source": [
    "#fun random search\n",
    "rdm_t1 = np.random.choice(t1r)\n",
    "rdm_t2 = np.random.choice(t2r)\n",
    "rdm_t3 = np.random.choice(t3r)\n",
    "rdm_t4 = np.random.choice(t4r)\n",
    "rdm_t5 = np.random.choice(t5r)\n",
    "rdm_t6 = np.random.choice(t6r)\n",
    "\n",
    "x0 = [rdm_t1,rdm_t2,rdm_t3,rdm_t4,rdm_t5,rdm_t6]\n",
    "scoring(x0, player_stats, tier_players, score_options)"
   ]
  },
  {
   "cell_type": "code",
   "execution_count": 7,
   "metadata": {},
   "outputs": [],
   "source": [
    "def dev_scoring(t1, t2, t3, t4, t5, t6, player_stats, tier_players, score_options):\n",
    "    \n",
    "    tier_scores = [np.dot(player_stats[tier_players['tier1'][t1]] , score_options),\n",
    "                   np.dot(player_stats[tier_players['tier2'][t2]] , score_options),\n",
    "                   np.dot(player_stats[tier_players['tier3'][t3]] , score_options),\n",
    "                   np.dot(player_stats[tier_players['tier4'][t4]] , score_options),\n",
    "                   np.dot(player_stats[tier_players['tier5'][t5]] , score_options),\n",
    "                   np.dot(player_stats[tier_players['tier6'][t6]] , score_options)]\n",
    "\n",
    "    total_points = np.sum(tier_scores)\n",
    "    \n",
    "    return total_points"
   ]
  },
  {
   "cell_type": "code",
   "execution_count": 8,
   "metadata": {},
   "outputs": [],
   "source": [
    "#Let's vectorize the function\n",
    "scoring_vect = np.vectorize(dev_scoring , excluded = [6,7,8])\n",
    "\n",
    "#create a meshgrid\n",
    "Tr1, Tr2, Tr3, Tr4, Tr5, Tr6 = np.meshgrid(t1r, t2r, t3r, t4r, t5r, t6r)\n",
    "\n",
    "results = scoring_vect(Tr1, Tr2, Tr3, Tr4, Tr5, Tr6, player_stats, tier_players, score_options)"
   ]
  },
  {
   "cell_type": "code",
   "execution_count": 9,
   "metadata": {},
   "outputs": [
    {
     "data": {
      "text/plain": [
       "array([230.3  , 229.975, 229.925, ..., 175.55 , 175.25 , 175.025])"
      ]
     },
     "execution_count": 9,
     "metadata": {},
     "output_type": "execute_result"
    }
   ],
   "source": [
    "-np.sort(-results, axis = None)"
   ]
  },
  {
   "cell_type": "code",
   "execution_count": 10,
   "metadata": {},
   "outputs": [
    {
     "data": {
      "image/png": "[encoded data removed]",
      "text/plain": [
       "<Figure size 1080x504 with 1 Axes>"
      ]
     },
     "metadata": {
      "needs_background": "light"
     },
     "output_type": "display_data"
    }
   ],
   "source": [
    "fig, ax = plt.subplots(figsize = (15,7,))\n",
    "plt.plot(-np.sort(-results, axis = None),  '*r', markersize = 0.1)\n",
    "plt.show()"
   ]
  },
  {
   "cell_type": "code",
   "execution_count": 11,
   "metadata": {},
   "outputs": [
    {
     "data": {
      "text/plain": [
       "230.3"
      ]
     },
     "execution_count": 11,
     "metadata": {},
     "output_type": "execute_result"
    }
   ],
   "source": [
    "np.max(results)"
   ]
  },
  {
   "cell_type": "code",
   "execution_count": 12,
   "metadata": {},
   "outputs": [
    {
     "data": {
      "text/plain": [
       "175.025"
      ]
     },
     "execution_count": 12,
     "metadata": {},
     "output_type": "execute_result"
    }
   ],
   "source": [
    "np.min(results)"
   ]
  },
  {
   "cell_type": "code",
   "execution_count": null,
   "metadata": {},
   "outputs": [],
   "source": []
  }
 ],
 "metadata": {
  "kernelspec": {
   "display_name": "Python 3",
   "language": "python",
   "name": "python3"
  },
  "language_info": {
   "codemirror_mode": {
    "name": "ipython",
    "version": 3
   },
   "file_extension": ".py",
   "mimetype": "text/x-python",
   "name": "python",
   "nbconvert_exporter": "python",
   "pygments_lexer": "ipython3",
   "version": "3.7.0"
  }
 },
 "nbformat": 4,
 "nbformat_minor": 2
}
